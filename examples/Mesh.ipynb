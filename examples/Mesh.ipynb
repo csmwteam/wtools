{
 "cells": [
  {
   "cell_type": "code",
   "execution_count": 1,
   "metadata": {},
   "outputs": [],
   "source": [
    "import numpy as np\n",
    "import matplotlib.pyplot as plt"
   ]
  },
  {
   "cell_type": "code",
   "execution_count": 2,
   "metadata": {},
   "outputs": [],
   "source": [
    "import sys\n",
    "sys.path.append('../')\n",
    "import wtools"
   ]
  },
  {
   "cell_type": "code",
   "execution_count": 3,
   "metadata": {},
   "outputs": [],
   "source": [
    "#%matplotlib notebook"
   ]
  },
  {
   "cell_type": "code",
   "execution_count": 4,
   "metadata": {},
   "outputs": [],
   "source": [
    "# Make the random numbers predictable for testing\n",
    "np.random.seed(0)"
   ]
  },
  {
   "cell_type": "markdown",
   "metadata": {},
   "source": [
    "# Making Gridded/Mesh Data\n",
    "\n",
    "## A simple case\n",
    "First, create a dictionary of your model data. For this example, we create a uniformly discretized 3D volume of data. The first array is some random data `nx` by `ny` by `nz` (10 by 10 by 10 for the snippet below) and the second array include some spatial data ranging from 0 to 1000 which we restructure in a contiguous fashion (x then y then z) which we can use for reference when checking how our data is displayed."
   ]
  },
  {
   "cell_type": "code",
   "execution_count": 5,
   "metadata": {},
   "outputs": [],
   "source": [
    "models = {\n",
    "          'rand': np.random.randn(10,10,10),\n",
    "          'spatial': np.linspace(0, 1000, 1000).reshape((10,10,10)),\n",
    "         }"
   ]
  },
  {
   "cell_type": "markdown",
   "metadata": {},
   "source": [
    "Once you have your model dictionary created, create a `Grid` object and feed it your models like below. Note that we print this object to ensure it was constructed properly and if not, fill out the parts that are missing. On the backend, this print/output of the object calls `grid.validate()` which ensures the grid is ready for use!"
   ]
  },
  {
   "cell_type": "code",
   "execution_count": 6,
   "metadata": {},
   "outputs": [
    {
     "data": {
      "text/html": [
       "<table><tr><th>Grid Attributes</th><th>Models</th></tr><tr><td>\n",
       "<table>\n",
       "<tr><th>Attribute</th><th>Values</th></tr>\n",
       "<tr><td>Shape</td><td>(10, 10, 10)</td></tr>\n",
       "<tr><td>Origin</td><td>(0.0, 0.0, 0.0)</td></tr>\n",
       "<tr><td>X Bounds</td><td>(0.0, 10.0)</td></tr>\n",
       "<tr><td>Y Bounds</td><td>(0.0, 10.0)</td></tr>\n",
       "<tr><td>Z Bounds</td><td>(0.0, 10.0)</td></tr>\n",
       "<tr><td>Models</td><td>2</td></tr>\n",
       "</table>\n",
       "\n",
       "</td><td>\n",
       "<table>\n",
       "<tr><th>Name</th><th>Type</th><th>Min</th><th>Max</th></tr>\n",
       "<tr><td>rand</td><td>float64</td><td>-3.046e+00</td><td>2.759e+00</td></tr>\n",
       "<tr><td>spatial</td><td>float64</td><td>0.000e+00</td><td>1.000e+03</td></tr>\n",
       "</table>\n",
       "\n",
       "</td></tr> </table>"
      ],
      "text/plain": [
       "<Grid instance>\n",
       "  Shape: (10, 10, 10)\n",
       "  Origin: (0.0, 0.0, 0.0)\n",
       "  X Bounds: (0.0, 10.0)\n",
       "  Y Bounds: (0.0, 10.0)\n",
       "  Z Bounds: (0.0, 10.0)\n",
       "  Models: (2)\n",
       "    'rand' (float64): (-3.046e+00, 2.759e+00)\n",
       "    'spatial' (float64): (0.000e+00, 1.000e+03)"
      ]
     },
     "execution_count": 6,
     "metadata": {},
     "output_type": "execute_result"
    }
   ],
   "source": [
    "grid = wtools.Grid(models=models)\n",
    "grid"
   ]
  },
  {
   "cell_type": "markdown",
   "metadata": {},
   "source": [
    "Now let's use this new `Grid` object. Please reference `Grid`'s code docs on https://wtools.readthedocs.io/en/latest/ to understand what attributes and methods are present."
   ]
  },
  {
   "cell_type": "code",
   "execution_count": 7,
   "metadata": {},
   "outputs": [
    {
     "data": {
      "text/plain": [
       "['rand', 'spatial']"
      ]
     },
     "execution_count": 7,
     "metadata": {},
     "output_type": "execute_result"
    }
   ],
   "source": [
    "grid.keys"
   ]
  },
  {
   "cell_type": "code",
   "execution_count": 8,
   "metadata": {},
   "outputs": [
    {
     "data": {
      "text/plain": [
       "array([0., 0., 0.])"
      ]
     },
     "execution_count": 8,
     "metadata": {},
     "output_type": "execute_result"
    }
   ],
   "source": [
    "grid.x0"
   ]
  },
  {
   "cell_type": "code",
   "execution_count": 9,
   "metadata": {},
   "outputs": [
    {
     "data": {
      "text/plain": [
       "array([1., 1., 1., 1., 1., 1., 1., 1., 1., 1.])"
      ]
     },
     "execution_count": 9,
     "metadata": {},
     "output_type": "execute_result"
    }
   ],
   "source": [
    "grid.hx"
   ]
  },
  {
   "cell_type": "code",
   "execution_count": 10,
   "metadata": {},
   "outputs": [
    {
     "data": {
      "text/plain": [
       "'/Users/bane/Documents/school/Masters/csm-wteam-github/wtools/examples/output/simple.json'"
      ]
     },
     "execution_count": 10,
     "metadata": {},
     "output_type": "execute_result"
    }
   ],
   "source": [
    "grid.save('output/simple.json')"
   ]
  },
  {
   "cell_type": "code",
   "execution_count": 11,
   "metadata": {},
   "outputs": [
    {
     "data": {
      "image/png": "[encoded data removed]",
      "text/plain": [
       "<Figure size 432x288 with 4 Axes>"
      ]
     },
     "metadata": {
      "needs_background": "light"
     },
     "output_type": "display_data"
    }
   ],
   "source": [
    "grid.plot_3d_slicer('spatial', yslice=3.5)"
   ]
  },
  {
   "cell_type": "markdown",
   "metadata": {},
   "source": [
    "## Spatially Referenced Grids\n",
    "\n",
    "Now, what if you know the spatial reference of your grid? Then go ahead and pass the origin and cell spacings to the `Grid` object upon intialization. For this example, we will recreate some volumetric data and build a spatial reference frame."
   ]
  },
  {
   "cell_type": "code",
   "execution_count": 12,
   "metadata": {},
   "outputs": [],
   "source": [
    "nx, ny, nz = 12, 20, 15\n",
    "models = {\n",
    "          'rand': np.random.randn(nx,ny,nz),\n",
    "          'spatial': np.linspace(0, nx*ny*nz, nx*ny*nz).reshape((nx,ny,nz)),\n",
    "         }"
   ]
  },
  {
   "cell_type": "markdown",
   "metadata": {},
   "source": [
    "Now lets build the cell spacings along each axis for our gridded data. It is very important to note that the cell sizes do NOT have to be uniformly spaced."
   ]
  },
  {
   "cell_type": "code",
   "execution_count": 13,
   "metadata": {},
   "outputs": [],
   "source": [
    "origin = (100.0, 350.0, -1000.0)\n",
    "xs = np.array([100, 50] + [10]*(nx-4) + [50, 100])\n",
    "ys = np.array([100, 50] + [10]*(ny-4) + [50, 100])\n",
    "zs = np.array([10]*(nz-6) + [25, 50, 75, 100, 150, 200])"
   ]
  },
  {
   "cell_type": "code",
   "execution_count": 14,
   "metadata": {},
   "outputs": [
    {
     "data": {
      "text/html": [
       "<table><tr><th>Grid Attributes</th><th>Models</th></tr><tr><td>\n",
       "<table>\n",
       "<tr><th>Attribute</th><th>Values</th></tr>\n",
       "<tr><td>Shape</td><td>(12, 20, 15)</td></tr>\n",
       "<tr><td>Origin</td><td>(100.0, 350.0, -1000.0)</td></tr>\n",
       "<tr><td>X Bounds</td><td>(100.0, 480.0)</td></tr>\n",
       "<tr><td>Y Bounds</td><td>(350.0, 810.0)</td></tr>\n",
       "<tr><td>Z Bounds</td><td>(-1000.0, -310.0)</td></tr>\n",
       "<tr><td>Models</td><td>2</td></tr>\n",
       "</table>\n",
       "\n",
       "</td><td>\n",
       "<table>\n",
       "<tr><th>Name</th><th>Type</th><th>Min</th><th>Max</th></tr>\n",
       "<tr><td>rand</td><td>float64</td><td>-3.740e+00</td><td>3.802e+00</td></tr>\n",
       "<tr><td>spatial</td><td>float64</td><td>0.000e+00</td><td>3.600e+03</td></tr>\n",
       "</table>\n",
       "\n",
       "</td></tr> </table>"
      ],
      "text/plain": [
       "<Grid instance>\n",
       "  Shape: (12, 20, 15)\n",
       "  Origin: (100.0, 350.0, -1000.0)\n",
       "  X Bounds: (100.0, 480.0)\n",
       "  Y Bounds: (350.0, 810.0)\n",
       "  Z Bounds: (-1000.0, -310.0)\n",
       "  Models: (2)\n",
       "    'rand' (float64): (-3.740e+00, 3.802e+00)\n",
       "    'spatial' (float64): (0.000e+00, 3.600e+03)"
      ]
     },
     "execution_count": 14,
     "metadata": {},
     "output_type": "execute_result"
    }
   ],
   "source": [
    "grid = wtools.Grid(models=models, x0=origin, h=[xs, ys, zs])\n",
    "grid"
   ]
  },
  {
   "cell_type": "markdown",
   "metadata": {},
   "source": [
    "Now lets display this meshed data with a plotting resolution that represents the model discretization."
   ]
  },
  {
   "cell_type": "code",
   "execution_count": 15,
   "metadata": {},
   "outputs": [
    {
     "data": {
      "image/png": "[encoded data removed]",
      "text/plain": [
       "<Figure size 432x288 with 4 Axes>"
      ]
     },
     "metadata": {
      "needs_background": "light"
     },
     "output_type": "display_data"
    }
   ],
   "source": [
    "grid.plot_3d_slicer('spatial')"
   ]
  },
  {
   "cell_type": "markdown",
   "metadata": {},
   "source": [
    "## Now Check that File I/O works both ways"
   ]
  },
  {
   "cell_type": "code",
   "execution_count": 16,
   "metadata": {},
   "outputs": [],
   "source": [
    "_ = grid.save('output/advanced.json')"
   ]
  },
  {
   "cell_type": "code",
   "execution_count": 17,
   "metadata": {},
   "outputs": [
    {
     "data": {
      "text/html": [
       "<table><tr><th>Grid Attributes</th><th>Models</th></tr><tr><td>\n",
       "<table>\n",
       "<tr><th>Attribute</th><th>Values</th></tr>\n",
       "<tr><td>Shape</td><td>(12, 20, 15)</td></tr>\n",
       "<tr><td>Origin</td><td>(100.0, 350.0, -1000.0)</td></tr>\n",
       "<tr><td>X Bounds</td><td>(100.0, 480.0)</td></tr>\n",
       "<tr><td>Y Bounds</td><td>(350.0, 810.0)</td></tr>\n",
       "<tr><td>Z Bounds</td><td>(-1000.0, -310.0)</td></tr>\n",
       "<tr><td>Models</td><td>2</td></tr>\n",
       "</table>\n",
       "\n",
       "</td><td>\n",
       "<table>\n",
       "<tr><th>Name</th><th>Type</th><th>Min</th><th>Max</th></tr>\n",
       "<tr><td>rand</td><td>float64</td><td>-3.740e+00</td><td>3.802e+00</td></tr>\n",
       "<tr><td>spatial</td><td>float64</td><td>0.000e+00</td><td>3.600e+03</td></tr>\n",
       "</table>\n",
       "\n",
       "</td></tr> </table>"
      ],
      "text/plain": [
       "<Grid instance>\n",
       "  Shape: (12, 20, 15)\n",
       "  Origin: (100.0, 350.0, -1000.0)\n",
       "  X Bounds: (100.0, 480.0)\n",
       "  Y Bounds: (350.0, 810.0)\n",
       "  Z Bounds: (-1000.0, -310.0)\n",
       "  Models: (2)\n",
       "    'rand' (float64): (-3.740e+00, 3.802e+00)\n",
       "    'spatial' (float64): (0.000e+00, 3.600e+03)"
      ]
     },
     "execution_count": 17,
     "metadata": {},
     "output_type": "execute_result"
    }
   ],
   "source": [
    "load = wtools.Grid.load_mesh('output/advanced.json')\n",
    "load"
   ]
  },
  {
   "cell_type": "code",
   "execution_count": 18,
   "metadata": {},
   "outputs": [
    {
     "data": {
      "text/plain": [
       "(True, True)"
      ]
     },
     "execution_count": 18,
     "metadata": {},
     "output_type": "execute_result"
    }
   ],
   "source": [
    "load.equal(grid), grid.equal(load)"
   ]
  },
  {
   "cell_type": "markdown",
   "metadata": {},
   "source": [
    "# PVGeo\n",
    "\n",
    "Note that we have also overridden the toVTK method so that serialized `Grid` objects can be loaded directly into ParaVIew using the `wplugins.py` file delivered in this repo."
   ]
  },
  {
   "cell_type": "code",
   "execution_count": 19,
   "metadata": {},
   "outputs": [],
   "source": [
    "#type(load.toVTK())"
   ]
  },
  {
   "cell_type": "code",
   "execution_count": null,
   "metadata": {},
   "outputs": [],
   "source": []
  }
 ],
 "metadata": {
  "kernelspec": {
   "display_name": "Python [conda env:ogv]",
   "language": "python",
   "name": "conda-env-ogv-py"
  },
  "language_info": {
   "codemirror_mode": {
    "name": "ipython",
    "version": 3
   },
   "file_extension": ".py",
   "mimetype": "text/x-python",
   "name": "python",
   "nbconvert_exporter": "python",
   "pygments_lexer": "ipython3",
   "version": "3.6.5"
  }
 },
 "nbformat": 4,
 "nbformat_minor": 2
}
